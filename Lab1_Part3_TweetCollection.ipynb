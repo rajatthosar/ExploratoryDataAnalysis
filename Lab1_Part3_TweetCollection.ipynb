{
 "cells": [
  {
   "cell_type": "markdown",
   "metadata": {},
   "source": [
    "<H3>CSE587: Data Intensive Computing</H3>\n",
    "<H4>Lab 1: Part 3</H4>\n",
    "Author:<br>\n",
    "Rajat Rajendra Thosar <br>\n",
    "Teammate:<br>Shreya Chatterjee"
   ]
  },
  {
   "cell_type": "markdown",
   "metadata": {},
   "source": [
    "<h2>Import and load required packages</h2>"
   ]
  },
  {
   "cell_type": "code",
   "execution_count": 1,
   "metadata": {},
   "outputs": [
    {
     "name": "stderr",
     "output_type": "stream",
     "text": [
      "Downloading GitHub repo mkearney/rtweet@master\n",
      "from URL https://api.github.com/repos/mkearney/rtweet/zipball/master\n",
      "WARNING: Rtools is required to build R packages, but is not currently installed.\n",
      "\n",
      "Please download and install the appropriate version of Rtools from http://cran.r-project.org/bin/windows/Rtools/.\n",
      "Installation failed: Could not find build tools necessary to build rtweet\n",
      "Warning message:\n",
      "\"unable to access index for repository http://www.stats.ox.ac.uk/pub/RWin/bin/windows/contrib/3.5:\n",
      "  cannot open URL 'http://www.stats.ox.ac.uk/pub/RWin/bin/windows/contrib/3.5/PACKAGES'\""
     ]
    },
    {
     "name": "stdout",
     "output_type": "stream",
     "text": [
      "package 'openssl' successfully unpacked and MD5 sums checked\n",
      "\n",
      "The downloaded binary packages are in\n",
      "\tC:\\Users\\rtsil\\AppData\\Local\\Temp\\RtmpWYT6H6\\downloaded_packages\n"
     ]
    }
   ],
   "source": [
    "if (!requireNamespace(\"devtools\", quietly = TRUE)) {\n",
    "  install.packages(\"devtools\")\n",
    "}\n",
    "devtools::install_github(\"mkearney/rtweet\")\n",
    "download.file(url=\"http://curl.haxx.se/ca/cacert.pem\", destfile=\"cacert.pem\")\n",
    "\n",
    "install.packages(\"openssl\")\n",
    "\n",
    "# rtweet is an R client for accessing Twitter’s REST and stream APIs. \n",
    "# Reference: https://rtweet.info/\n",
    "library(rtweet)\n",
    "library(openssl)"
   ]
  },
  {
   "cell_type": "markdown",
   "metadata": {},
   "source": [
    "<H2>Open authorization with Twitter to consume its APIs</H2>"
   ]
  },
  {
   "cell_type": "code",
   "execution_count": 2,
   "metadata": {},
   "outputs": [
    {
     "name": "stderr",
     "output_type": "stream",
     "text": [
      "Loading required package: ggplot2\n",
      "Google's Terms of Service: https://cloud.google.com/maps-platform/terms/.\n",
      "Please cite ggmap if you use it! See citation(\"ggmap\") for details.\n",
      "Loading required package: sp\n",
      "Checking rgeos availability: FALSE\n",
      " \tNote: when rgeos is not available, polygon geometry \tcomputations in maptools depend on gpclib,\n",
      " \twhich has a restricted licence. It is disabled by default;\n",
      " \tto enable gpclib, type gpclibPermit()\n"
     ]
    }
   ],
   "source": [
    "# create_token() validates an account for API access with the credentials passed in the arguments\n",
    "# Here, we decided to authenticate with the access token and access secret\n",
    "# This token is later referenced by the internal subroutines to access other Twitter APIs\n",
    "twitter_token <- create_token(\n",
    "  app = \"UB_EDA_DIC_RT_SC\", \n",
    "  consumer_key = \"QppZHxgn58O2Me1OXssAlx2is\", \n",
    "  consumer_secret = \"eYkdnKm9UKdr920rewvrIkkrJteR5AZOwJbYxS9osLVueWB0IL\",\n",
    "  access_token = \"786562109719011328-FoohgY4RyGPGG7L0b9mq3LiEqbOJUQA\", \n",
    "  access_secret = \"tWiWSzSev07aQtceJ80PsMuWP74AFuCEhUgS2viHGZ0pM\")\n",
    "\n",
    "library(\"ggmap\")\n",
    "library(\"maptools\")\n",
    "library(\"maps\")\n",
    "\n",
    "# Authenticate to Google Cloud Platform to access Maps API\n",
    "register_google(key = Sys.getenv(\"GMapAPI\")) \n"
   ]
  },
  {
   "cell_type": "markdown",
   "metadata": {},
   "source": [
    "<H2>Search block for tweets</H2>"
   ]
  },
  {
   "cell_type": "code",
   "execution_count": 3,
   "metadata": {},
   "outputs": [
    {
     "name": "stderr",
     "output_type": "stream",
     "text": [
      "Downloading [=========================================] 100%\n",
      "retry on rate limit...\n",
      "waiting about 13 minutes...\n",
      "Downloading [=======================================>-]  99%retry on rate limit...\n",
      "waiting about 13 minutes...\n",
      "Downloading [=========================================] 100%\n",
      "retry on rate limit...\n",
      "waiting about 13 minutes...\n",
      "Downloading [>----------------------------------------]   2%"
     ]
    }
   ],
   "source": [
    "# Create a collection of keywords that will be used as search strings for tweets\n",
    "# As a general observation, using smaller keywords generates more data\n",
    "for (query in c(\"Global warming\",\"Pollution\",\"Drought\",\"Hurricane\",\"Extreme weather\",\"seas level rise\",\"skin cancer\")){\n",
    "    searchTweets <- c(query)#, \"influenza\", \"epidemic\", \"illness\", \"H1N1\", \"H3N2\",\"Type A flu\",\"Type B flu\", \"#flu\", \"#influenza\", \"#fluseason\", \"#epidemic\", \"#h1n1\")\n",
    "\n",
    "    # Add an OR clause between the keyowrds\n",
    "    searchQ1 <- paste(searchTweets, collapse = \" OR \")\n",
    "\n",
    "    # The following function calls Twitter's GET statuses/show/:id API to retrieve the tweets containing\n",
    "    # -searchQ1\n",
    "    # We limit the searching domain to 200,000 tweets and geographically restrict the tweets to USA.\n",
    "    # In order to avoid duplicacy of tweets, we have flagged the include_rts to FALSE\n",
    "    tweets<-search_tweets(searchQ1, n=20000, geocode = lookup_coords(\"usa\"), retryonratelimit = TRUE, include_rts = FALSE)\n",
    "    file = paste(query,\".csv\")\n",
    "    # Dump the downloaded tweets to a .csv file to retrieve it later\n",
    "    save_as_csv(tweets, file , prepend_ids = TRUE, na = \"\",\n",
    "                fileEncoding = \"UTF-8\") \n",
    "}"
   ]
  },
  {
   "cell_type": "code",
   "execution_count": null,
   "metadata": {},
   "outputs": [],
   "source": []
  }
 ],
 "metadata": {
  "kernelspec": {
   "display_name": "R",
   "language": "R",
   "name": "ir"
  },
  "language_info": {
   "codemirror_mode": "r",
   "file_extension": ".r",
   "mimetype": "text/x-r-source",
   "name": "R",
   "pygments_lexer": "r",
   "version": "3.5.1"
  }
 },
 "nbformat": 4,
 "nbformat_minor": 2
}
